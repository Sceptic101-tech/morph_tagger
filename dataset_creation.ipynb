{
 "cells": [
  {
   "cell_type": "code",
   "execution_count": 1,
   "id": "9fea07b7",
   "metadata": {},
   "outputs": [],
   "source": [
    "from conllu import parse, parse_incr\n",
    "import pandas as pd\n",
    "import numpy as np\n",
    "import os"
   ]
  },
  {
   "cell_type": "code",
   "execution_count": 2,
   "id": "1af91403",
   "metadata": {},
   "outputs": [],
   "source": [
    "DATASET_PATH = 'D:/Files/Datasets/UD_Russian-SynTagRus-master'"
   ]
  },
  {
   "cell_type": "code",
   "execution_count": 3,
   "id": "926ad7f8",
   "metadata": {},
   "outputs": [],
   "source": [
    "train_df = pd.DataFrame()\n",
    "test_df = pd.DataFrame()\n",
    "dev_df = pd.DataFrame()"
   ]
  },
  {
   "cell_type": "code",
   "execution_count": 4,
   "id": "e06d9161",
   "metadata": {},
   "outputs": [
    {
     "name": "stdout",
     "output_type": "stream",
     "text": [
      "24516\n",
      "24299\n",
      "20816\n",
      "8800\n",
      "8906\n"
     ]
    }
   ],
   "source": [
    "for letter in ['a', 'b', 'c']:\n",
    "    data_file = open(os.path.join(DATASET_PATH, f'ru_syntagrus-ud-train-{letter}.conllu'), 'r', encoding='utf-8')\n",
    "    parsed_list = list(parse_incr(data_file))\n",
    "\n",
    "    source_tokens = []\n",
    "    lemmas = []\n",
    "    upos = []\n",
    "    xpos = []\n",
    "    feats = []\n",
    "    head = []\n",
    "    deprel = []\n",
    "    misc = []\n",
    "\n",
    "    for seq in parsed_list:\n",
    "        source_tokens.append([str(token) for token in seq])\n",
    "        lemmas.append([grammem['lemma'] for grammem in seq])\n",
    "        upos.append([grammem['upos'] for grammem in seq])\n",
    "        xpos.append([grammem['xpos'] for grammem in seq])\n",
    "        feats.append([grammem['feats'] for grammem in seq])\n",
    "        head.append([grammem['head'] for grammem in seq])\n",
    "        deprel.append([grammem['deprel'] for grammem in seq])\n",
    "        misc.append([grammem['misc'] for grammem in seq])\n",
    "\n",
    "    temp_df = pd.DataFrame({\n",
    "    'source_tokens': source_tokens,\n",
    "    'lemmas': lemmas,\n",
    "    'upos': upos,\n",
    "    'xpos': xpos,\n",
    "    'feats': feats,\n",
    "    'head': head,\n",
    "    'deprel': deprel,\n",
    "    'misc': misc\n",
    "    }, dtype='object')\n",
    "\n",
    "    print(len(temp_df))\n",
    "\n",
    "    train_df = pd.concat((train_df, temp_df))\n",
    "\n",
    "for datapath in ['ru_syntagrus-ud-test.conllu', 'ru_syntagrus-ud-dev.conllu']:\n",
    "    data_file = open(os.path.join(DATASET_PATH, datapath), 'r', encoding='utf-8')\n",
    "    parsed_list = list(parse_incr(data_file))\n",
    "\n",
    "    source_tokens = []\n",
    "    lemmas = []\n",
    "    upos = []\n",
    "    xpos = []\n",
    "    feats = []\n",
    "    head = []\n",
    "    deprel = []\n",
    "    misc = []\n",
    "\n",
    "    for seq in parsed_list:\n",
    "        source_tokens.append([str(token) for token in seq])\n",
    "        lemmas.append([grammem['lemma'] for grammem in seq])\n",
    "        upos.append([grammem['upos'] for grammem in seq])\n",
    "        xpos.append([grammem['xpos'] for grammem in seq])\n",
    "        feats.append([grammem['feats'] for grammem in seq])\n",
    "        head.append([grammem['head'] for grammem in seq])\n",
    "        deprel.append([grammem['deprel'] for grammem in seq])\n",
    "        misc.append([grammem['misc'] for grammem in seq])\n",
    "\n",
    "    temp_df = pd.DataFrame({\n",
    "    'source_tokens': source_tokens,\n",
    "    'lemmas': lemmas,\n",
    "    'upos': upos,\n",
    "    'xpos': xpos,\n",
    "    'feats': feats,\n",
    "    'head': head,\n",
    "    'deprel': deprel,\n",
    "    'misc': misc\n",
    "    }, dtype='object')\n",
    "\n",
    "    print(len(temp_df))\n",
    "\n",
    "    if datapath == 'ru_syntagrus-ud-test.conllu':\n",
    "        test_df = temp_df\n",
    "    else:\n",
    "        dev_df = temp_df"
   ]
  },
  {
   "cell_type": "code",
   "execution_count": 5,
   "id": "b24af83f",
   "metadata": {},
   "outputs": [
    {
     "name": "stdout",
     "output_type": "stream",
     "text": [
      "69631\n",
      "8800\n",
      "8906\n"
     ]
    }
   ],
   "source": [
    "print(len(train_df))\n",
    "print(len(test_df))\n",
    "print(len(dev_df))"
   ]
  },
  {
   "cell_type": "code",
   "execution_count": 6,
   "id": "f5ca875b",
   "metadata": {},
   "outputs": [],
   "source": [
    "train_df.to_parquet(os.path.join(DATASET_PATH, 'ru_syntagrus-ud-train.parquet'), engine=\"fastparquet\", index=False)\n",
    "test_df.to_parquet(os.path.join(DATASET_PATH, 'ru_syntagrus-ud-test.parquet'), engine=\"fastparquet\", index=False)\n",
    "dev_df.to_parquet(os.path.join(DATASET_PATH, 'ru_syntagrus-ud-dev.parquet'), engine=\"fastparquet\", index=False)"
   ]
  },
  {
   "cell_type": "code",
   "execution_count": null,
   "id": "1ece13ed",
   "metadata": {},
   "outputs": [],
   "source": []
  }
 ],
 "metadata": {
  "kernelspec": {
   "display_name": ".venv",
   "language": "python",
   "name": "python3"
  },
  "language_info": {
   "codemirror_mode": {
    "name": "ipython",
    "version": 3
   },
   "file_extension": ".py",
   "mimetype": "text/x-python",
   "name": "python",
   "nbconvert_exporter": "python",
   "pygments_lexer": "ipython3",
   "version": "3.12.0"
  }
 },
 "nbformat": 4,
 "nbformat_minor": 5
}
