{
 "cells": [
  {
   "cell_type": "code",
   "execution_count": 44,
   "id": "aa19498e",
   "metadata": {},
   "outputs": [],
   "source": [
    "from conllu import parse, parse_incr\n",
    "import pandas as pd\n",
    "import os"
   ]
  },
  {
   "cell_type": "code",
   "execution_count": 45,
   "id": "f9e0a571",
   "metadata": {},
   "outputs": [],
   "source": [
    "DATASET_PATH = 'D:/Files/Datasets/UD_Russian-SynTagRus-master'"
   ]
  },
  {
   "cell_type": "code",
   "execution_count": 46,
   "id": "e2dab390",
   "metadata": {},
   "outputs": [
    {
     "name": "stdout",
     "output_type": "stream",
     "text": [
      "TokenList<Анкета, ., metadata={sent_id: \"2003Anketa.xml_1\", text: \"Анкета.\"}>\n",
      "<class 'conllu.models.TokenList'>\n"
     ]
    }
   ],
   "source": [
    "data_file = open(os.path.join(DATASET_PATH, 'ru_syntagrus-ud-train-a.conllu'), 'r', encoding='utf-8')\n",
    "\n",
    "# for i in range(20):\n",
    "#     print(parse_incr(data_file).__next__())\n",
    "\n",
    "print(parse_incr(data_file).__next__())\n",
    "print(type(parse_incr(data_file).__next__()))"
   ]
  },
  {
   "cell_type": "code",
   "execution_count": 47,
   "id": "920afee7",
   "metadata": {},
   "outputs": [],
   "source": [
    "parsed_list = list(parse_incr(data_file))"
   ]
  },
  {
   "cell_type": "code",
   "execution_count": 63,
   "id": "81dc9199",
   "metadata": {},
   "outputs": [
    {
     "data": {
      "text/plain": [
       "{'id': 2,\n",
       " 'form': 'приемной',\n",
       " 'lemma': 'приемная',\n",
       " 'upos': 'NOUN',\n",
       " 'xpos': None,\n",
       " 'feats': {'Animacy': 'Inan',\n",
       "  'Case': 'Loc',\n",
       "  'Gender': 'Fem',\n",
       "  'Number': 'Sing'},\n",
       " 'head': 6,\n",
       " 'deprel': 'obl',\n",
       " 'deps': [('obl:в:loc', 6)],\n",
       " 'misc': None}"
      ]
     },
     "execution_count": 63,
     "metadata": {},
     "output_type": "execute_result"
    }
   ],
   "source": [
    "a = parsed_list[0][1]\n",
    "a"
   ]
  },
  {
   "cell_type": "code",
   "execution_count": 57,
   "id": "037aecef",
   "metadata": {},
   "outputs": [
    {
     "name": "stdout",
     "output_type": "stream",
     "text": [
      "В\n",
      "приемной\n",
      "его\n",
      "с\n",
      "утра\n",
      "ожидали\n",
      "посетители\n",
      ",\n",
      "-\n",
      "кое-кто\n",
      "с\n",
      "важными\n",
      "делами\n",
      ",\n",
      "а\n",
      "кое-кто\n",
      "и\n",
      "с\n",
      "такими\n",
      ",\n",
      "которые\n",
      "легко\n",
      "можно\n",
      "было\n",
      "решить\n",
      "в\n",
      "нижестоящих\n",
      "инстанциях\n",
      ",\n",
      "не\n",
      "затрудняя\n",
      "Семена\n",
      "Еремеевича\n",
      ".\n"
     ]
    }
   ],
   "source": [
    "for token in parsed_list[0]:\n",
    "    print(token)"
   ]
  },
  {
   "cell_type": "code",
   "execution_count": 49,
   "id": "b5414a1f",
   "metadata": {},
   "outputs": [
    {
     "data": {
      "text/plain": [
       "dict_items([('sent_id', '2003Anketa.xml_3'), ('text', 'В приемной его с утра ожидали посетители, - кое-кто с важными делами, а кое-кто и с такими, которые легко можно было решить в нижестоящих инстанциях, не затрудняя Семена Еремеевича.')])"
      ]
     },
     "execution_count": 49,
     "metadata": {},
     "output_type": "execute_result"
    }
   ],
   "source": [
    "parsed_list[0].metadata.items()"
   ]
  },
  {
   "cell_type": "code",
   "execution_count": 50,
   "id": "ebe6632e",
   "metadata": {},
   "outputs": [
    {
     "name": "stdout",
     "output_type": "stream",
     "text": [
      "sent_id    2003Anketa.xml_3\n",
      "text    В приемной его с утра ожидали посетители, - кое-кто с важными делами, а кое-кто и с такими, которые легко можно было решить в нижестоящих инстанциях, не затрудняя Семена Еремеевича.\n"
     ]
    }
   ],
   "source": [
    "for key, value in parsed_list[0].metadata.items():\n",
    "    print(key, '  ', value)"
   ]
  },
  {
   "cell_type": "code",
   "execution_count": 51,
   "id": "4b345c46",
   "metadata": {},
   "outputs": [],
   "source": [
    "metadata = ', '.join(f\"{key}: \\\"{value}\\\"\" for key, value in parsed_list[0].metadata.items())"
   ]
  },
  {
   "cell_type": "code",
   "execution_count": null,
   "id": "5b1fa67b",
   "metadata": {},
   "outputs": [],
   "source": []
  }
 ],
 "metadata": {
  "kernelspec": {
   "display_name": ".venv",
   "language": "python",
   "name": "python3"
  },
  "language_info": {
   "codemirror_mode": {
    "name": "ipython",
    "version": 3
   },
   "file_extension": ".py",
   "mimetype": "text/x-python",
   "name": "python",
   "nbconvert_exporter": "python",
   "pygments_lexer": "ipython3",
   "version": "3.12.0"
  }
 },
 "nbformat": 4,
 "nbformat_minor": 5
}
